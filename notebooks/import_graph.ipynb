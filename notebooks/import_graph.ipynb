{
 "cells": [
  {
   "cell_type": "markdown",
   "metadata": {},
   "source": [
    "# Importing the graph from OSM-XML format into Python"
   ]
  },
  {
   "cell_type": "code",
   "execution_count": 1,
   "metadata": {},
   "outputs": [],
   "source": [
    "import networkx as nx"
   ]
  },
  {
   "cell_type": "markdown",
   "metadata": {},
   "source": [
    "Source for .osm parsing code: https://github.com/Tofull/networkx-osm\n",
    "\n",
    "The original code seems to contain a bug that leads to a runtime error: \"Dictionary changed size during iteration\", therefore the loop in line 253 was changed to iterate over a copy of the dictionary."
   ]
  },
  {
   "cell_type": "code",
   "execution_count": 2,
   "metadata": {},
   "outputs": [],
   "source": [
    "\"\"\"\n",
    "Convert a Open Street Maps `.map` format file into a networkx directional graph.\n",
    "This parser is based on the osm to networkx tool from aflaxman : https://gist.github.com/aflaxman/287370/\n",
    "Added :\n",
    "- python3.6 compatibility\n",
    "- networkx v2 compatibility\n",
    "- cache to avoid downloading the same osm tiles again and again\n",
    "- distance computation to estimate length of each ways (useful to compute the shortest path)\n",
    "Copyright (C) 2017 Loïc Messal (github : Tofull)\n",
    "\"\"\"\n",
    "\n",
    "import copy\n",
    "import urllib.request\n",
    "import xml.sax\n",
    "from math import radians, cos, sin, asin, sqrt\n",
    "from pathlib import Path\n",
    "\n",
    "import networkx\n",
    "\n",
    "\n",
    "def haversine_distance(lon1, lat1, lon2, lat2, unit_m=True):\n",
    "    \"\"\"\n",
    "    Calculate the great circle distance between two points\n",
    "    on the earth (specified in decimal degrees)\n",
    "    default unit : meters\n",
    "    \"\"\"\n",
    "    # convert decimal degrees to radians\n",
    "    lon1, lat1, lon2, lat2 = map(radians, [lon1, lat1, lon2, lat2])\n",
    "\n",
    "    # haversine formula\n",
    "    dlon = lon2 - lon1\n",
    "    dlat = lat2 - lat1\n",
    "    a = sin(dlat / 2)**2 + cos(lat1) * cos(lat2) * sin(dlon / 2)**2\n",
    "    c = 2 * asin(sqrt(a))\n",
    "    r = 6371  # Radius of the Earth in kilometers. Use 3956 for miles\n",
    "    if unit_m:\n",
    "        r *= 1000\n",
    "    return c * r\n",
    "\n",
    "\n",
    "def download_osm(left=-73.4244, bottom=45.4302, right=-73.4010, top=45.4466, proxy=False, proxyHost=\"10.0.4.2\", proxyPort=\"3128\", cache=False, cacheTempDir=\"/tmp/tmpOSM/\", verbose=True):\n",
    "    \"\"\" Return a filehandle to the downloaded data from osm api.\"\"\"\n",
    "    if cache:\n",
    "        # cached tile filename\n",
    "        cachedTileFilename = \"osm_map_{:.8f}_{:.8f}_{:.8f}_{:.8f}.map\".format(left, bottom, right, top)\n",
    "\n",
    "        if verbose:\n",
    "            print(\"Cached tile filename :\", cachedTileFilename)\n",
    "\n",
    "        cacheTempDir = Path(cacheTempDir)\n",
    "        cacheTempDir.mkdir(parents=True, exist_ok=True)  # Create cache path if not exists\n",
    "\n",
    "        osmFile = Path(cacheTempDir / cachedTileFilename).resolve()  # Replace the relative cache folder path to absolute path\n",
    "\n",
    "        if osmFile.is_file():\n",
    "            # download from the cache folder\n",
    "            if verbose:\n",
    "                print(\"Tile loaded from the cache folder.\")\n",
    "\n",
    "            with open(osmFile, mode='r') as f:\n",
    "                content = f.read()\n",
    "            return content\n",
    "\n",
    "    if proxy:\n",
    "        # configure the urllib request with the proxy\n",
    "        proxy_handler = urllib.request.ProxyHandler({'https': 'https://' + proxyHost + \":\" + proxyPort, 'http': 'http://' + proxyHost + \":\" + proxyPort})\n",
    "        opener = urllib.request.build_opener(proxy_handler)\n",
    "        urllib.request.install_opener(opener)\n",
    "\n",
    "    request = \"http://api.openstreetmap.org/api/0.6/map?bbox=%f,%f,%f,%f\" % (left, bottom, right, top)\n",
    "\n",
    "    if verbose:\n",
    "        print(\"Download the tile from osm web api ... in progress\")\n",
    "        print(\"Request :\", request)\n",
    "\n",
    "    fp = urllib.request.urlopen(request)\n",
    "    content = fp.read().decode('utf-8')\n",
    "\n",
    "    if verbose:\n",
    "        print(\"OSM Tile downloaded\")\n",
    "\n",
    "    if cache:\n",
    "        if verbose:\n",
    "            print(\"Write osm tile in the cache\")\n",
    "\n",
    "        with open(osmFile, 'w') as f:\n",
    "            f.write(content)\n",
    "\n",
    "        if osmFile.is_file():\n",
    "            if verbose:\n",
    "                print(\"OSM tile written in the cache\")\n",
    "\n",
    "    return content\n",
    "\n",
    "\n",
    "def read_osm(osm_xml_data, is_xml_string=True, only_roads=True):\n",
    "    \"\"\"Read graph in OSM format from file specified by name or by stream object.\n",
    "    Parameters\n",
    "    ----------\n",
    "    filename_or_stream : filename or stream object\n",
    "    Returns\n",
    "    -------\n",
    "    G : Graph\n",
    "    Examples\n",
    "    --------\n",
    "    >>> G=nx.read_osm(nx.download_osm(-122.33,47.60,-122.31,47.61))\n",
    "    >>> import matplotlib.pyplot as plt\n",
    "    >>> plt.plot([G.node[n]['lat']for n in G], [G.node[n]['lon'] for n in G], 'o', color='k')\n",
    "    >>> plt.show()\n",
    "    \"\"\"\n",
    "    osm = OSM(osm_xml_data, is_xml_string=is_xml_string)\n",
    "    G = networkx.DiGraph()\n",
    "\n",
    "    ## Add ways\n",
    "    for w in osm.ways.values():\n",
    "        if only_roads and 'highway' not in w.tags:\n",
    "            continue\n",
    "\n",
    "        if ('oneway' in w.tags):\n",
    "            if (w.tags['oneway'] == 'yes'):\n",
    "                # ONLY ONE DIRECTION\n",
    "                networkx.add_path(G, w.nds, id=w.id)\n",
    "            else:\n",
    "                # BOTH DIRECTION\n",
    "                networkx.add_path(G, w.nds, id=w.id)\n",
    "                networkx.add_path(G, w.nds[::-1], id=w.id)\n",
    "        else:\n",
    "            # BOTH DIRECTION\n",
    "            networkx.add_path(G, w.nds, id=w.id)\n",
    "            networkx.add_path(G, w.nds[::-1], id=w.id)\n",
    "\n",
    "    # Complete the used nodes' information\n",
    "    coordinates_map = {}\n",
    "    for n_id in G.nodes():\n",
    "        n = osm.nodes[n_id]\n",
    "        G.nodes[n_id]['lat'] = n.lat\n",
    "        G.nodes[n_id]['lon'] = n.lon\n",
    "        G.nodes[n_id]['id'] = n.id\n",
    "        coordinates_map[n_id] = (n.lon, n.lat)\n",
    "\n",
    "    # Estimate the length of each way\n",
    "    for u, v, d in G.edges(data=True):\n",
    "        distance = haversine_distance(G.nodes[u]['lon'], G.nodes[u]['lat'], G.nodes[v]['lon'], G.nodes[v]['lat'], unit_m=True)  # Give a realistic distance estimation (neither EPSG nor projection nor reference system are specified)\n",
    "\n",
    "        G.add_weighted_edges_from([(u, v, distance)], weight='havlen')\n",
    "\n",
    "    G = networkx.relabel_nodes(G, coordinates_map)\n",
    "    return G\n",
    "\n",
    "\n",
    "class Node(object):\n",
    "    def __init__(self, id, lon, lat):\n",
    "        self.id = id\n",
    "        self.lon = lon\n",
    "        self.lat = lat\n",
    "        self.tags = {}\n",
    "\n",
    "    def __str__(self):\n",
    "        return \"Node (id : %s) lon : %s, lat : %s \"%(self.id, self.lon, self.lat)\n",
    "\n",
    "\n",
    "class Way(object):\n",
    "    def __init__(self, id, osm):\n",
    "        self.osm = osm\n",
    "        self.id = id\n",
    "        self.nds = []\n",
    "        self.tags = {}\n",
    "\n",
    "    def split(self, dividers):\n",
    "        # slice the node-array using this nifty recursive function\n",
    "        def slice_array(ar, dividers):\n",
    "            for i in range(1,len(ar)-1):\n",
    "                if dividers[ar[i]]>1:\n",
    "                    left = ar[:i+1]\n",
    "                    right = ar[i:]\n",
    "\n",
    "                    rightsliced = slice_array(right, dividers)\n",
    "\n",
    "                    return [left]+rightsliced\n",
    "            return [ar]\n",
    "\n",
    "        slices = slice_array(self.nds, dividers)\n",
    "\n",
    "        # create a way object for each node-array slice\n",
    "        ret = []\n",
    "        i = 0\n",
    "        for slice in slices:\n",
    "            littleway = copy.copy(self)\n",
    "            littleway.id += \"-%d\" % i\n",
    "            littleway.nds = slice\n",
    "            ret.append(littleway)\n",
    "            i += 1\n",
    "\n",
    "        return ret\n",
    "\n",
    "\n",
    "class OSM(object):\n",
    "    def __init__(self, osm_xml_data, is_xml_string=True):\n",
    "        \"\"\" File can be either a filename or stream/file object.\n",
    "        set `is_xml_string=False` if osm_xml_data is a filename or a file stream.\n",
    "        \"\"\"\n",
    "        nodes = {}\n",
    "        ways = {}\n",
    "\n",
    "        superself = self\n",
    "\n",
    "        class OSMHandler(xml.sax.ContentHandler):\n",
    "            @classmethod\n",
    "            def setDocumentLocator(self, loc):\n",
    "                pass\n",
    "\n",
    "            @classmethod\n",
    "            def startDocument(self):\n",
    "                pass\n",
    "\n",
    "            @classmethod\n",
    "            def endDocument(self):\n",
    "                pass\n",
    "\n",
    "            @classmethod\n",
    "            def startElement(self, name, attrs):\n",
    "                if name == 'node':\n",
    "                    self.currElem = Node(attrs['id'], float(attrs['lon']), float(attrs['lat']))\n",
    "                elif name == 'way':\n",
    "                    self.currElem = Way(attrs['id'], superself)\n",
    "                elif name == 'tag':\n",
    "                    self.currElem.tags[attrs['k']] = attrs['v']\n",
    "                elif name == 'nd':\n",
    "                    self.currElem.nds.append(attrs['ref'])\n",
    "\n",
    "            @classmethod\n",
    "            def endElement(self, name):\n",
    "                if name == 'node':\n",
    "                    nodes[self.currElem.id] = self.currElem\n",
    "                elif name == 'way':\n",
    "                    ways[self.currElem.id] = self.currElem\n",
    "\n",
    "            @classmethod\n",
    "            def characters(self, chars):\n",
    "                pass\n",
    "\n",
    "        if is_xml_string:\n",
    "            xml.sax.parseString(osm_xml_data, OSMHandler)\n",
    "        else:\n",
    "            with open(osm_xml_data, mode='r') as f:\n",
    "                xml.sax.parse(f, OSMHandler)\n",
    "\n",
    "        self.nodes = nodes\n",
    "        self.ways = ways\n",
    "\n",
    "        # count times each node is used\n",
    "        node_histogram = dict.fromkeys(self.nodes.keys(), 0)\n",
    "        for way in self.ways.copy().values():\n",
    "            if len(way.nds) < 2:  # if a way has only one node, delete it out of the osm collection\n",
    "                del self.ways[way.id]\n",
    "            else:\n",
    "                for node in way.nds:\n",
    "                    node_histogram[node] += 1\n",
    "\n",
    "        # use that histogram to split all ways, replacing the member set of ways\n",
    "        new_ways = {}\n",
    "        for id, way in self.ways.items():\n",
    "            split_ways = way.split(node_histogram)\n",
    "            for split_way in split_ways:\n",
    "                new_ways[split_way.id] = split_way\n",
    "        self.ways = new_ways"
   ]
  },
  {
   "cell_type": "markdown",
   "metadata": {},
   "source": [
    "## Read .osm file and convert to graph"
   ]
  },
  {
   "cell_type": "code",
   "execution_count": 3,
   "metadata": {},
   "outputs": [],
   "source": [
    "# Adjust if your path differs\n",
    "osmFile = \"..\\\\data\\\\planet_144.86,-37.852_145.033,-37.767.osm\""
   ]
  },
  {
   "cell_type": "code",
   "execution_count": 4,
   "metadata": {},
   "outputs": [],
   "source": [
    "with open(osmFile, mode='r', encoding='utf-8') as f:\n",
    "                content = f.read()"
   ]
  },
  {
   "cell_type": "code",
   "execution_count": 5,
   "metadata": {},
   "outputs": [
    {
     "data": {
      "text/plain": [
       "67524266"
      ]
     },
     "execution_count": 5,
     "metadata": {},
     "output_type": "execute_result"
    }
   ],
   "source": [
    "len(content)"
   ]
  },
  {
   "cell_type": "code",
   "execution_count": 6,
   "metadata": {},
   "outputs": [],
   "source": [
    "# Might take up to two minutes\n",
    "graph = read_osm(content)"
   ]
  },
  {
   "cell_type": "code",
   "execution_count": 7,
   "metadata": {
    "scrolled": true
   },
   "outputs": [
    {
     "data": {
      "text/plain": [
       "networkx.classes.digraph.DiGraph"
      ]
     },
     "execution_count": 7,
     "metadata": {},
     "output_type": "execute_result"
    }
   ],
   "source": [
    "type(graph)"
   ]
  },
  {
   "cell_type": "markdown",
   "metadata": {},
   "source": [
    "## Nodes & Edges"
   ]
  },
  {
   "cell_type": "markdown",
   "metadata": {},
   "source": [
    "### Nodes"
   ]
  },
  {
   "cell_type": "markdown",
   "metadata": {},
   "source": [
    "Nodes are 3-tuples in the following format:\n",
    "\n",
    " `(lon, lat, id)`\n",
    " \n",
    "where:\n",
    "- `lon`: geographic longitude\n",
    "- `lat`: geographic latitude\n",
    "- `id`: unique id (integer)"
   ]
  },
  {
   "cell_type": "markdown",
   "metadata": {},
   "source": [
    "### Edges"
   ]
  },
  {
   "cell_type": "markdown",
   "metadata": {},
   "source": [
    "Edges are 3-tuples in the following format:\n",
    "\n",
    " `(n1, n2, attr_dict)`\n",
    " \n",
    "where:\n",
    "- `n1`: start node\n",
    "- `n2`: end node\n",
    "- `attr_dict`: dictionary of edges attributes, containing two entries:\n",
    "    - `id`: unique id (integer)\n",
    "    - `havlen`: the length of the edge in meters (haversine distance)"
   ]
  },
  {
   "cell_type": "markdown",
   "metadata": {},
   "source": [
    "### Notes on havlen"
   ]
  },
  {
   "cell_type": "markdown",
   "metadata": {},
   "source": [
    "The length of an edge is calcuated as the great circle distance (haversine distance) between two points, e.g. the shortest route that takes you from one point to the other, assuming you travel on the surface of a sphere with radius 6371 km. The precision should be sufficient for most purposes."
   ]
  },
  {
   "cell_type": "markdown",
   "metadata": {},
   "source": [
    "## Some exploration of the graph"
   ]
  },
  {
   "cell_type": "markdown",
   "metadata": {},
   "source": [
    "Refer to the networkx documentation (https://networkx.org/documentation/stable/) for more features"
   ]
  },
  {
   "cell_type": "code",
   "execution_count": 10,
   "metadata": {},
   "outputs": [
    {
     "data": {
      "text/plain": [
       "[(145.0237749, -37.8212553),\n",
       " (145.0238362, -37.8212624),\n",
       " (145.0239717, -37.821278),\n",
       " (145.0241772, -37.8213017),\n",
       " (144.9892554, -37.7838711)]"
      ]
     },
     "execution_count": 10,
     "metadata": {},
     "output_type": "execute_result"
    }
   ],
   "source": [
    "list(graph.nodes)[:5]"
   ]
  },
  {
   "cell_type": "code",
   "execution_count": 11,
   "metadata": {},
   "outputs": [
    {
     "data": {
      "text/plain": [
       "[((145.0237749, -37.8212553), (145.0238362, -37.8212624)),\n",
       " ((145.0237749, -37.8212553), (145.0222146, -37.8210743)),\n",
       " ((145.0238362, -37.8212624), (145.0239717, -37.821278)),\n",
       " ((145.0238362, -37.8212624), (145.0237749, -37.8212553)),\n",
       " ((145.0239717, -37.821278), (145.0238362, -37.8212624))]"
      ]
     },
     "execution_count": 11,
     "metadata": {},
     "output_type": "execute_result"
    }
   ],
   "source": [
    "list(graph.edges)[:5]"
   ]
  },
  {
   "cell_type": "code",
   "execution_count": 14,
   "metadata": {},
   "outputs": [
    {
     "data": {
      "text/plain": [
       "{'lat': -37.8212553, 'lon': 145.0237749, 'id': '2250235146'}"
      ]
     },
     "execution_count": 14,
     "metadata": {},
     "output_type": "execute_result"
    }
   ],
   "source": [
    "# Print details about a specific node\n",
    "n0 = list(graph.nodes)[0]\n",
    "graph.nodes[n0]"
   ]
  },
  {
   "cell_type": "code",
   "execution_count": 23,
   "metadata": {},
   "outputs": [
    {
     "data": {
      "text/plain": [
       "{'id': '215555725-0', 'havlen': 138.5205041192772}"
      ]
     },
     "execution_count": 23,
     "metadata": {},
     "output_type": "execute_result"
    }
   ],
   "source": [
    "# Print details about a specific edge\n",
    "e0 = list(graph.edges)[1]\n",
    "graph.edges[e0]"
   ]
  },
  {
   "cell_type": "markdown",
   "metadata": {},
   "source": [
    "You can verify edge lengths here: https://www.gpsvisualizer.com/calculators, take care: website uses slightly more precise formula which accounts for flattened shape of the earth, but results are pretty similar"
   ]
  },
  {
   "cell_type": "code",
   "execution_count": 12,
   "metadata": {},
   "outputs": [
    {
     "data": {
      "text/plain": [
       "[(145.0238362, -37.8212624), (145.0222146, -37.8210743)]"
      ]
     },
     "execution_count": 12,
     "metadata": {},
     "output_type": "execute_result"
    }
   ],
   "source": [
    "# List adjacent nodes to some specific node\n",
    "list(graph.adj[(145.0237749, -37.8212553)])"
   ]
  },
  {
   "cell_type": "code",
   "execution_count": 13,
   "metadata": {
    "scrolled": true
   },
   "outputs": [
    {
     "data": {
      "text/plain": [
       "4"
      ]
     },
     "execution_count": 13,
     "metadata": {},
     "output_type": "execute_result"
    }
   ],
   "source": [
    "# Degree of a certain node\n",
    "graph.degree((145.0237749, -37.8212553))"
   ]
  },
  {
   "cell_type": "code",
   "execution_count": 25,
   "metadata": {},
   "outputs": [
    {
     "data": {
      "text/plain": [
       "{}"
      ]
     },
     "execution_count": 25,
     "metadata": {},
     "output_type": "execute_result"
    }
   ],
   "source": [
    "# No global graph attributes exist\n",
    "graph.graph"
   ]
  },
  {
   "cell_type": "markdown",
   "metadata": {},
   "source": [
    "## Plotting the graph"
   ]
  },
  {
   "cell_type": "code",
   "execution_count": null,
   "metadata": {},
   "outputs": [],
   "source": [
    "# Doesn't work (in reasonable time?)\n",
    "import matplotlib.pyplot as plt\n",
    "nx.draw(graph)\n",
    "plt.show()"
   ]
  },
  {
   "cell_type": "code",
   "execution_count": null,
   "metadata": {},
   "outputs": [],
   "source": []
  },
  {
   "cell_type": "code",
   "execution_count": null,
   "metadata": {},
   "outputs": [],
   "source": []
  },
  {
   "cell_type": "code",
   "execution_count": null,
   "metadata": {},
   "outputs": [],
   "source": []
  },
  {
   "cell_type": "code",
   "execution_count": null,
   "metadata": {},
   "outputs": [],
   "source": []
  },
  {
   "cell_type": "code",
   "execution_count": null,
   "metadata": {},
   "outputs": [],
   "source": []
  }
 ],
 "metadata": {
  "kernelspec": {
   "display_name": "Python 3",
   "language": "python",
   "name": "python3"
  },
  "language_info": {
   "codemirror_mode": {
    "name": "ipython",
    "version": 3
   },
   "file_extension": ".py",
   "mimetype": "text/x-python",
   "name": "python",
   "nbconvert_exporter": "python",
   "pygments_lexer": "ipython3",
   "version": "3.8.5"
  }
 },
 "nbformat": 4,
 "nbformat_minor": 4
}
