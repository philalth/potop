{
 "cells": [
  {
   "cell_type": "code",
   "execution_count": 1,
   "metadata": {},
   "outputs": [],
   "source": [
    "import numpy as np\n",
    "import pandas as pd\n"
   ]
  },
  {
   "cell_type": "code",
   "execution_count": 2,
   "metadata": {},
   "outputs": [],
   "source": [
    "parking_spots = pd.read_csv(\"C:\\\\Users\\Oliver\\Dropbox\\LMU\\Praktikum_BigData\\Git\\potop\\data\\Off-street_car_parking_2017_map.csv\")"
   ]
  },
  {
   "cell_type": "code",
   "execution_count": 3,
   "metadata": {},
   "outputs": [
    {
     "name": "stdout",
     "output_type": "stream",
     "text": [
      "Max x: 144.9908 Min x: 144.9013\n",
      "Max y: -37.7762 Min y: -37.8497\n"
     ]
    }
   ],
   "source": [
    "'''find the highest and smallest x/y value of the sensor placement to download the specific\n",
    "as an open street map walking graph'''\n",
    "x_coordinates = parking_spots[\"x coordinate\"]\n",
    "y_coordinates = parking_spots[\"y coordinate\"]\n",
    "\n",
    "max_x = x_coordinates[0]\n",
    "min_x = x_coordinates[0]\n",
    "for x in x_coordinates:\n",
    "    if max_x < x:\n",
    "        max_x = x\n",
    "    if x < min_x:\n",
    "        min_x = x\n",
    "print(\"Max x: %s Min x: %s\" %(max_x , min_x))\n",
    "\n",
    "max_y = y_coordinates[0]\n",
    "min_y = y_coordinates[0]\n",
    "for y in y_coordinates:\n",
    "    if max_y < y:\n",
    "        max_y = y\n",
    "    if y < min_y:\n",
    "        min_y = y\n",
    "print(\"Max y: %s Min y: %s\" %(max_y , min_y))\n"
   ]
  },
  {
   "cell_type": "code",
   "execution_count": null,
   "metadata": {},
   "outputs": [],
   "source": []
  },
  {
   "cell_type": "code",
   "execution_count": null,
   "metadata": {},
   "outputs": [],
   "source": []
  }
 ],
 "metadata": {
  "kernelspec": {
   "display_name": "Python 3",
   "language": "python",
   "name": "python3"
  },
  "language_info": {
   "codemirror_mode": {
    "name": "ipython",
    "version": 3
   },
   "file_extension": ".py",
   "mimetype": "text/x-python",
   "name": "python",
   "nbconvert_exporter": "python",
   "pygments_lexer": "ipython3",
   "version": "3.8.6rc1"
  }
 },
 "nbformat": 4,
 "nbformat_minor": 4
}
